{
  "nbformat": 4,
  "nbformat_minor": 0,
  "metadata": {
    "colab": {
      "private_outputs": true,
      "provenance": [],
      "collapsed_sections": [
        "vncDsAP0Gaoa",
        "FJNUwmbgGyua",
        "w6K7xa23Elo4",
        "yQaldy8SH6Dl",
        "PH-0ReGfmX4f",
        "mDgbUHAGgjLW",
        "O_i_v8NEhb9l",
        "HhfV-JJviCcP",
        "Y3lxredqlCYt",
        "3RnN4peoiCZX",
        "x71ZqKXriCWQ",
        "7hBIi_osiCS2",
        "JlHwYmJAmNHm",
        "35m5QtbWiB9F",
        "PoPl-ycgm1ru",
        "H0kj-8xxnORC",
        "nA9Y7ga8ng1Z",
        "PBTbrJXOngz2",
        "u3PMJOP6ngxN",
        "dauF4eBmngu3",
        "bKJF3rekwFvQ",
        "MSa1f5Uengrz",
        "GF8Ens_Soomf",
        "0wOQAZs5pc--",
        "K5QZ13OEpz2H",
        "lQ7QKXXCp7Bj",
        "448CDAPjqfQr",
        "KSlN3yHqYklG",
        "t6dVpIINYklI",
        "ijmpgYnKYklI",
        "-JiQyfWJYklI",
        "EM7whBJCYoAo",
        "fge-S5ZAYoAp",
        "85gYPyotYoAp",
        "RoGjAbkUYoAp",
        "4Of9eVA-YrdM",
        "iky9q4vBYrdO",
        "F6T5p64dYrdO",
        "y-Ehk30pYrdP",
        "bamQiAODYuh1",
        "QHF8YVU7Yuh3",
        "GwzvFGzlYuh3",
        "qYpmQ266Yuh3",
        "OH-pJp9IphqM",
        "bbFf2-_FphqN",
        "_ouA3fa0phqN",
        "Seke61FWphqN",
        "PIIx-8_IphqN",
        "t27r6nlMphqO",
        "r2jJGEOYphqO",
        "b0JNsNcRphqO",
        "BZR9WyysphqO",
        "jj7wYXLtphqO",
        "eZrbJ2SmphqO",
        "rFu4xreNphqO",
        "YJ55k-q6phqO",
        "gCFgpxoyphqP",
        "OVtJsKN_phqQ",
        "lssrdh5qphqQ",
        "U2RJ9gkRphqQ",
        "1M8mcRywphqQ",
        "tgIPom80phqQ",
        "JMzcOPDDphqR",
        "x-EpHcCOp1ci",
        "X_VqEhTip1ck",
        "8zGJKyg5p1ck",
        "PVzmfK_Ep1ck",
        "n3dbpmDWp1ck",
        "ylSl6qgtp1ck",
        "ZWILFDl5p1ck",
        "M7G43BXep1ck",
        "Ag9LCva-p1cl",
        "E6MkPsBcp1cl",
        "2cELzS2fp1cl",
        "3MPXvC8up1cl",
        "NC_X3p0fY2L0",
        "UV0SzAkaZNRQ",
        "YPEH6qLeZNRQ",
        "q29F0dvdveiT",
        "EXh0U9oCveiU",
        "22aHeOlLveiV",
        "JcMwzZxoAimU",
        "8G2x9gOozGDZ",
        "gCX9965dhzqZ",
        "gIfDvo9L0UH2"
      ],
      "include_colab_link": true
    },
    "kernelspec": {
      "name": "python3",
      "display_name": "Python 3"
    },
    "language_info": {
      "name": "python"
    }
  },
  "cells": [
    {
      "cell_type": "markdown",
      "metadata": {
        "id": "view-in-github",
        "colab_type": "text"
      },
      "source": [
        "<a href=\"https://colab.research.google.com/github/praveen-tanwar/capstone-2-EDA-play-store-data/blob/main/Team_Capstone2.ipynb\" target=\"_parent\"><img src=\"https://colab.research.google.com/assets/colab-badge.svg\" alt=\"Open In Colab\"/></a>"
      ]
    },
    {
      "cell_type": "markdown",
      "source": [
        "# **Project Name**    -  EDA of the $Play \\ Store \\  data$\n",
        "\n"
      ],
      "metadata": {
        "id": "vncDsAP0Gaoa"
      }
    },
    {
      "cell_type": "markdown",
      "source": [
        "##### **Project Type**    - EDA\n",
        "##### **Contribution**    - Team\n",
        "##### **Team Member 1 -**Mahima Choudhary\n",
        "##### **Team Member 2 -**Praveen\n"
      ],
      "metadata": {
        "id": "beRrZCGUAJYm"
      }
    },
    {
      "cell_type": "markdown",
      "source": [
        "# **Project Summary -**"
      ],
      "metadata": {
        "id": "FJNUwmbgGyua"
      }
    },
    {
      "cell_type": "markdown",
      "source": [
        "Write the summary here within 500-600 words."
      ],
      "metadata": {
        "id": "F6v_1wHtG2nS"
      }
    },
    {
      "cell_type": "markdown",
      "source": [
        "# **GitHub Link -**"
      ],
      "metadata": {
        "id": "w6K7xa23Elo4"
      }
    },
    {
      "cell_type": "markdown",
      "source": [
        "Provide your GitHub Link here."
      ],
      "metadata": {
        "id": "h1o69JH3Eqqn"
      }
    },
    {
      "cell_type": "markdown",
      "source": [
        "# **Problem Statement**\n"
      ],
      "metadata": {
        "id": "yQaldy8SH6Dl"
      }
    },
    {
      "cell_type": "markdown",
      "source": [
        "**Write Problem Statement Here.**"
      ],
      "metadata": {
        "id": "DpeJGUA3kjGy"
      }
    },
    {
      "cell_type": "markdown",
      "source": [
        "#### **Define Your Business Objective?**"
      ],
      "metadata": {
        "id": "PH-0ReGfmX4f"
      }
    },
    {
      "cell_type": "markdown",
      "source": [
        "Answer Here."
      ],
      "metadata": {
        "id": "PhDvGCAqmjP1"
      }
    },
    {
      "cell_type": "markdown",
      "source": [
        "# **General Guidelines** : -  "
      ],
      "metadata": {
        "id": "mDgbUHAGgjLW"
      }
    },
    {
      "cell_type": "markdown",
      "source": [
        "1.   Well-structured, formatted, and commented code is required.\n",
        "2.   Exception Handling, Production Grade Code & Deployment Ready Code will be a plus. Those students will be awarded some additional credits.\n",
        "     \n",
        "     The additional credits will have advantages over other students during Star Student selection.\n",
        "       \n",
        "             [ Note: - Deployment Ready Code is defined as, the whole .ipynb notebook should be executable in one go\n",
        "                       without a single error logged. ]\n",
        "\n",
        "3.   Each and every logic should have proper comments.\n",
        "4. You may add as many number of charts you want. Make Sure for each and every chart the following format should be answered.\n",
        "        \n",
        "\n",
        "```\n",
        "# Chart visualization code\n",
        "```\n",
        "            \n",
        "\n",
        "*   Why did you pick the specific chart?\n",
        "*   What is/are the insight(s) found from the chart?\n",
        "* Will the gained insights help creating a positive business impact?\n",
        "Are there any insights that lead to negative growth? Justify with specific reason.\n",
        "\n",
        "5. You have to create at least 20 logical & meaningful charts having important insights.\n",
        "\n",
        "\n",
        "[ Hints : - Do the Vizualization in  a structured way while following \"UBM\" Rule.\n",
        "\n",
        "U - Univariate Analysis,\n",
        "\n",
        "B - Bivariate Analysis (Numerical - Categorical, Numerical - Numerical, Categorical - Categorical)\n",
        "\n",
        "M - Multivariate Analysis\n",
        " ]\n",
        "\n",
        "\n",
        "\n"
      ],
      "metadata": {
        "id": "ZrxVaUj-hHfC"
      }
    },
    {
      "cell_type": "markdown",
      "source": [
        "# ***Let's Begin !***"
      ],
      "metadata": {
        "id": "O_i_v8NEhb9l"
      }
    },
    {
      "cell_type": "markdown",
      "source": [
        "## ***1. Know Your Data***"
      ],
      "metadata": {
        "id": "HhfV-JJviCcP"
      }
    },
    {
      "cell_type": "markdown",
      "source": [
        "### Import Libraries"
      ],
      "metadata": {
        "id": "Y3lxredqlCYt"
      }
    },
    {
      "cell_type": "code",
      "source": [
        "# Import Libraries\n",
        "import pandas as pd\n",
        "import numpy as np\n",
        "import matplotlib.pyplot as plt\n",
        "import seaborn as sns\n"
      ],
      "metadata": {
        "id": "M8Vqi-pPk-HR"
      },
      "execution_count": null,
      "outputs": []
    },
    {
      "cell_type": "code",
      "source": [
        "#@title Mounting google drive\n",
        "from google.colab import drive\n",
        "drive.mount('/content/drive')"
      ],
      "metadata": {
        "id": "_sIwjijl0qmJ",
        "cellView": "form"
      },
      "execution_count": null,
      "outputs": []
    },
    {
      "cell_type": "markdown",
      "source": [
        "### Dataset Loading"
      ],
      "metadata": {
        "id": "3RnN4peoiCZX"
      }
    },
    {
      "cell_type": "code",
      "source": [
        "# Load Dataset\n",
        "# loading play store data\n",
        "play_store_df = pd.read_csv('/content/drive/MyDrive/eda_project/Play Store Data.csv')\n",
        "\n",
        "# loading user reviews data\n",
        "user_reviews_df = pd.read_csv('/content/drive/MyDrive/eda_project/User Reviews.csv')"
      ],
      "metadata": {
        "id": "4CkvbW_SlZ_R"
      },
      "execution_count": null,
      "outputs": []
    },
    {
      "cell_type": "markdown",
      "source": [
        "### Dataset First View"
      ],
      "metadata": {
        "id": "x71ZqKXriCWQ"
      }
    },
    {
      "cell_type": "code",
      "source": [
        "# Dataset First Look\n",
        "play_store_df.head()   # play_store_Data"
      ],
      "metadata": {
        "id": "LWNFOSvLl09H"
      },
      "execution_count": null,
      "outputs": []
    },
    {
      "cell_type": "code",
      "source": [
        "user_reviews_df.head()  #  user reviews data"
      ],
      "metadata": {
        "id": "_K5lkWHCfP5h"
      },
      "execution_count": null,
      "outputs": []
    },
    {
      "cell_type": "markdown",
      "source": [
        "### Dataset Rows & Columns count"
      ],
      "metadata": {
        "id": "7hBIi_osiCS2"
      }
    },
    {
      "cell_type": "code",
      "source": [
        "# play_store_data rows and columns\n",
        "play_store_df_shape = play_store_df.shape\n",
        "print(f\"Play store data rows = {play_store_df_shape[0]}\")\n",
        "print(f\"Play store data columns = {play_store_df_shape[1]}\")"
      ],
      "metadata": {
        "id": "CruDI8XLe3n7"
      },
      "execution_count": null,
      "outputs": []
    },
    {
      "cell_type": "markdown",
      "source": [
        "* Rows in play store data: 10841\n",
        "\n",
        "* Columns in play store data: 13"
      ],
      "metadata": {
        "id": "E_P8K867QcBP"
      }
    },
    {
      "cell_type": "code",
      "source": [
        "# user reviews data rows and columns\n",
        "user_reviews_df.shape"
      ],
      "metadata": {
        "id": "14gnUqVpfpP_"
      },
      "execution_count": null,
      "outputs": []
    },
    {
      "cell_type": "markdown",
      "source": [
        "*  Rows in user reviews data: 64295\n",
        "* columns in user reviews data: 5"
      ],
      "metadata": {
        "id": "sVKJei3Sf089"
      }
    },
    {
      "cell_type": "markdown",
      "source": [
        "### Dataset Information"
      ],
      "metadata": {
        "id": "JlHwYmJAmNHm"
      }
    },
    {
      "cell_type": "code",
      "source": [
        "# Dataset Info\n",
        "# play store data info\n",
        "play_store_df.info()"
      ],
      "metadata": {
        "id": "e9hRXRi6meOf"
      },
      "execution_count": null,
      "outputs": []
    },
    {
      "cell_type": "markdown",
      "source": [
        "Here, we see that only \"Rating\" column has float Dtype, All other columns have object Dtype.\n",
        "\n",
        "So, We need to convert Dtype of some columns.\n",
        "\n",
        "These are \"Reviews, Size, Installs, Price\""
      ],
      "metadata": {
        "id": "Yr0CWtt557C1"
      }
    },
    {
      "cell_type": "code",
      "source": [
        "# user reviews data info\n",
        "user_reviews_df.info()"
      ],
      "metadata": {
        "id": "CNQfkQg_gEjc"
      },
      "execution_count": null,
      "outputs": []
    },
    {
      "cell_type": "markdown",
      "source": [
        "*  Two numeric columns and three object dtype columns.\n",
        "*  Except the App column, all the other columns have a high number of null values."
      ],
      "metadata": {
        "id": "ZCLZTBNpgXEF"
      }
    },
    {
      "cell_type": "markdown",
      "source": [
        "#### Duplicate Values"
      ],
      "metadata": {
        "id": "35m5QtbWiB9F"
      }
    },
    {
      "cell_type": "code",
      "source": [
        "# Dataset Duplicate Value Count\n",
        "play_store_df_duplicate_values = len(play_store_df) - len(play_store_df.drop_duplicates())\n",
        "print(f\"play store df duplicate values = {play_store_df_duplicate_values}\")"
      ],
      "metadata": {
        "id": "1sLdpKYkmox0"
      },
      "execution_count": null,
      "outputs": []
    },
    {
      "cell_type": "markdown",
      "source": [
        "This data has 483 duplicate values.\n",
        "\n",
        "So, unique rows in data = 10841-483 = 10351"
      ],
      "metadata": {
        "id": "LN7HdsT87qTI"
      }
    },
    {
      "cell_type": "code",
      "source": [
        "# user reviews data duplicate values\n",
        "user_reviews_df.duplicated().sum()"
      ],
      "metadata": {
        "id": "nq8sd3s6g3Da"
      },
      "execution_count": null,
      "outputs": []
    },
    {
      "cell_type": "markdown",
      "source": [
        "*  total 33616 duplicate values, this is very high"
      ],
      "metadata": {
        "id": "-clFdEP9hEIs"
      }
    },
    {
      "cell_type": "markdown",
      "source": [
        "#### Missing Values/Null Values"
      ],
      "metadata": {
        "id": "PoPl-ycgm1ru"
      }
    },
    {
      "cell_type": "code",
      "source": [
        "# Missing Values/Null Values Count\n",
        "play_store_df.isnull().sum()    # null values in each column"
      ],
      "metadata": {
        "id": "GgHWkxvamxVg"
      },
      "execution_count": null,
      "outputs": []
    },
    {
      "cell_type": "markdown",
      "source": [
        "Rating column has the most no. of null values i.e. 1474\n"
      ],
      "metadata": {
        "id": "_fclbTlT8eA0"
      }
    },
    {
      "cell_type": "code",
      "source": [
        "# total null values\n",
        "play_store_data_ttl_null_values = play_store_df.isnull().sum().sum()\n",
        "print(f\"play store data total null values = {play_store_data_ttl_null_values}\")"
      ],
      "metadata": {
        "id": "bBN6XpEbb0XZ"
      },
      "execution_count": null,
      "outputs": []
    },
    {
      "cell_type": "markdown",
      "source": [
        "Total null values = 1487"
      ],
      "metadata": {
        "id": "djIYITWe88bT"
      }
    },
    {
      "cell_type": "code",
      "source": [
        "# user reviews data\n",
        "user_reviews_df.isnull().sum()"
      ],
      "metadata": {
        "id": "P2BrdJrdhSxE"
      },
      "execution_count": null,
      "outputs": []
    },
    {
      "cell_type": "markdown",
      "source": [
        "*  The App column has zero null values. All the other columns have an almost equal number of null values."
      ],
      "metadata": {
        "id": "rmO9Y7qlhfDF"
      }
    },
    {
      "cell_type": "markdown",
      "source": [
        "### What did you know about your dataset?"
      ],
      "metadata": {
        "id": "H0kj-8xxnORC"
      }
    },
    {
      "cell_type": "markdown",
      "source": [
        "**play_store_df**  \n",
        "\n",
        "*  Rows: 10841                \n",
        "*  Columns: 13             \n",
        "*  Duplicate values: 483\n",
        "*  Null values: 1487\n",
        "* Only Rating column has float values\n",
        "* All other columns have object values\n",
        "* We need to convert Dtype of some columns\n",
        "* Out of total null values Rating column has 1474 null values\n",
        "---\n",
        "---\n",
        "**user_reviews_df**\n",
        "*  Rows: 64295                \n",
        "*  Columns: 5            \n",
        "*  Duplicate values: 33616\n",
        "*  Null values: 107457  \n",
        "*  This data can have duplicate values, so we need to deal with the null values and these null values are very high in number.\n",
        "\n",
        "\n",
        "\n",
        "\n"
      ],
      "metadata": {
        "id": "9bdBYlrBBTIY"
      }
    },
    {
      "cell_type": "markdown",
      "source": [
        "## ***2. Understanding Your Variables***"
      ],
      "metadata": {
        "id": "nA9Y7ga8ng1Z"
      }
    },
    {
      "cell_type": "code",
      "source": [
        "# Dataset Columns\n",
        "# play_Store_data\n",
        "print(play_store_df.columns)\n",
        "\n",
        "# user reviews\n",
        "print(user_reviews_df.columns)"
      ],
      "metadata": {
        "id": "j7xfkqrt5Ag5"
      },
      "execution_count": null,
      "outputs": []
    },
    {
      "cell_type": "markdown",
      "source": [
        "*  Columns in the dataset are: ['App', 'Category', 'Rating', 'Reviews', 'Size', 'Installs', 'Type', 'Price', 'Content Rating', 'Genres', 'Last Updated', 'Current Ver', 'Android Ver']"
      ],
      "metadata": {
        "id": "TPCFJgNETbTq"
      }
    },
    {
      "cell_type": "code",
      "source": [
        "# Dataset Describe\n",
        "play_store_df.describe()"
      ],
      "metadata": {
        "id": "DnOaZdaE5Q5t"
      },
      "execution_count": null,
      "outputs": []
    },
    {
      "cell_type": "markdown",
      "source": [
        "*  There is only one numerical column in this dataset i.e. 'Rating'. We have to convert some more columns to numeric data type."
      ],
      "metadata": {
        "id": "jTyIfaUiT40n"
      }
    },
    {
      "cell_type": "code",
      "source": [
        "# user reviews data\n",
        "user_reviews_df.describe()"
      ],
      "metadata": {
        "id": "OQW-jbgwjNNP"
      },
      "execution_count": null,
      "outputs": []
    },
    {
      "cell_type": "markdown",
      "source": [
        "### Variables Description"
      ],
      "metadata": {
        "id": "PBTbrJXOngz2"
      }
    },
    {
      "cell_type": "markdown",
      "source": [
        "**Play store data**\n",
        "\n",
        "App: Name of the application\n",
        "\n",
        "Category: Category of the application\n",
        "\n",
        "Rating: Avg rating of the application (between 1 and 5)\n",
        "\n",
        "Reviews: Total number of reviews\n",
        "\n",
        "Size: Size of the application\n",
        "\n",
        "Installs: Total number of installs\n",
        "\n",
        "Type: Describes the application is 'Free' or 'Paid'\n",
        "\n",
        "Price: The price of the application\n",
        "\n",
        "Content Rating: Describes who can use the application.\n",
        "\n",
        "Genres: Describes genres of the application.\n",
        "\n",
        "Last Updated: Date of the last update of the application.\n",
        "\n",
        "Current Ver: Describes current version of the application.\n",
        "\n",
        "Android Ver: Describes minimum android version required to run the particular application.\n",
        "\n",
        "----\n",
        "----\n",
        "**User reviews data**\n",
        "\n",
        "App: Similar to play store dataser i.e. the name of the application.\n",
        "\n",
        "Translated_Review: The review given by the user is translated into English.\n",
        "\n",
        "Sentiment: The sentiment of the review."
      ],
      "metadata": {
        "id": "aJV4KIxSnxay"
      }
    },
    {
      "cell_type": "markdown",
      "source": [
        "### Check Unique Values for each variable."
      ],
      "metadata": {
        "id": "u3PMJOP6ngxN"
      }
    },
    {
      "cell_type": "code",
      "source": [
        "# Check Unique Values for each variable.\n",
        "play_store_df['App'].unique()"
      ],
      "metadata": {
        "id": "zms12Yq5n-jE"
      },
      "execution_count": null,
      "outputs": []
    },
    {
      "cell_type": "code",
      "source": [
        "play_store_df['Category'].unique()"
      ],
      "metadata": {
        "id": "obcse8Mq6RwF"
      },
      "execution_count": null,
      "outputs": []
    },
    {
      "cell_type": "markdown",
      "source": [
        "Value '1.9' in Category column is invalid."
      ],
      "metadata": {
        "id": "9EjP9RTIiOSK"
      }
    },
    {
      "cell_type": "code",
      "source": [
        "play_store_df['Rating'].unique()"
      ],
      "metadata": {
        "id": "uclO22GH6uK3"
      },
      "execution_count": null,
      "outputs": []
    },
    {
      "cell_type": "markdown",
      "source": [
        "Rating column have values between 1 and 5, but here one value is 19. So, this is a outlier."
      ],
      "metadata": {
        "id": "xVrqhsd03Ijh"
      }
    },
    {
      "cell_type": "code",
      "source": [
        "play_store_df['Reviews'].unique()"
      ],
      "metadata": {
        "id": "iOzaft9N7EhI"
      },
      "execution_count": null,
      "outputs": []
    },
    {
      "cell_type": "markdown",
      "source": [
        "*  Dtype of this column should be int but here object is given. So, we have to convert this to int."
      ],
      "metadata": {
        "id": "0jtPtRRksg3c"
      }
    },
    {
      "cell_type": "code",
      "source": [
        "play_store_df['Size'].unique()"
      ],
      "metadata": {
        "id": "7ivwX_vuXz6G"
      },
      "execution_count": null,
      "outputs": []
    },
    {
      "cell_type": "markdown",
      "source": [
        "Size column has three types of values:\n",
        "1.  Size in Mb.\n",
        "2.  Size in kb.\n",
        "3.  Size varies with device\n",
        "\n"
      ],
      "metadata": {
        "id": "RNXd0QVrYKl4"
      }
    },
    {
      "cell_type": "code",
      "source": [
        "play_store_df['Installs'].unique()"
      ],
      "metadata": {
        "id": "b1zBWW_yY0ej"
      },
      "execution_count": null,
      "outputs": []
    },
    {
      "cell_type": "markdown",
      "source": [
        "*  Value Free in this Installs column is invalid as the column has total number of installs.\n",
        "\n",
        "*  Other values in this column have '+' and ',' sign."
      ],
      "metadata": {
        "id": "obQmMbH7ZBje"
      }
    },
    {
      "cell_type": "code",
      "source": [
        "play_store_df['Type'].unique()"
      ],
      "metadata": {
        "id": "kPc2AxW8Z1Ft"
      },
      "execution_count": null,
      "outputs": []
    },
    {
      "cell_type": "code",
      "source": [
        "play_store_df['Price'].unique()"
      ],
      "metadata": {
        "id": "qlfhDO1zZ5A2"
      },
      "execution_count": null,
      "outputs": []
    },
    {
      "cell_type": "markdown",
      "source": [
        "*  Value 'Everyone' is a outlier for this column. This should come in 'Content Rating' column."
      ],
      "metadata": {
        "id": "xIC3t800s7gp"
      }
    },
    {
      "cell_type": "code",
      "source": [
        "play_store_df['Content Rating'].unique()"
      ],
      "metadata": {
        "id": "TSrd25ogZ7V_"
      },
      "execution_count": null,
      "outputs": []
    },
    {
      "cell_type": "code",
      "source": [
        "play_store_df['Genres'].unique()"
      ],
      "metadata": {
        "id": "lOxy7Ea7aEq_"
      },
      "execution_count": null,
      "outputs": []
    },
    {
      "cell_type": "markdown",
      "source": [
        "*  'February 11, 2018' is a outlier for this column. This value should come in 'Last Updated' column"
      ],
      "metadata": {
        "id": "sXcDoQqVtdpN"
      }
    },
    {
      "cell_type": "code",
      "source": [
        "play_store_df['Last Updated'].unique()"
      ],
      "metadata": {
        "id": "dFguuFt0aGf8"
      },
      "execution_count": null,
      "outputs": []
    },
    {
      "cell_type": "code",
      "source": [
        "play_store_df['Current Ver'].unique()"
      ],
      "metadata": {
        "id": "qgxGTFg2aHbx"
      },
      "execution_count": null,
      "outputs": []
    },
    {
      "cell_type": "code",
      "source": [
        "play_store_df['Android Ver'].unique()"
      ],
      "metadata": {
        "id": "NNfgAe7gaIXS"
      },
      "execution_count": null,
      "outputs": []
    },
    {
      "cell_type": "code",
      "source": [
        "user_reviews_df['App'].unique()"
      ],
      "metadata": {
        "id": "xT95Pe5695oY"
      },
      "execution_count": null,
      "outputs": []
    },
    {
      "cell_type": "code",
      "source": [
        "user_reviews_df['Sentiment'].unique()"
      ],
      "metadata": {
        "id": "P1tuWk4k-SN2"
      },
      "execution_count": null,
      "outputs": []
    },
    {
      "cell_type": "code",
      "source": [
        "user_reviews_df['Sentiment_Polarity'].unique()"
      ],
      "metadata": {
        "id": "6F8XD4iM-hvt"
      },
      "execution_count": null,
      "outputs": []
    },
    {
      "cell_type": "code",
      "source": [
        "user_reviews_df['Sentiment_Subjectivity'].unique()\n"
      ],
      "metadata": {
        "id": "CUUVpH3c-yO1"
      },
      "execution_count": null,
      "outputs": []
    },
    {
      "cell_type": "markdown",
      "source": [
        "**Observations**\n",
        "\n",
        "*  Values '1.9', '19', 'Everyone', and 'February 11, 2018' in Category, Rating, Price, and Genres respectively are invalid and should come in their following columns in the data. So, in some rows, values are entered in the wrong columns.\n",
        "\n",
        "* The size column has three types of values.\n",
        "     1. Size in Mb.\n",
        "     2. Size in kb.\n",
        "     3. Size varies with device.\n",
        "\n",
        "* Installs column has '+' and ',' signs in almost all values. These need to be removed to make the column of numeric data type.  "
      ],
      "metadata": {
        "id": "gmlqXOgwJmD7"
      }
    },
    {
      "cell_type": "markdown",
      "source": [
        "## 3. ***Data Wrangling***"
      ],
      "metadata": {
        "id": "dauF4eBmngu3"
      }
    },
    {
      "cell_type": "markdown",
      "source": [
        "### Data Wrangling Code"
      ],
      "metadata": {
        "id": "bKJF3rekwFvQ"
      }
    },
    {
      "cell_type": "code",
      "source": [
        "# Write your code to make your dataset analysis ready."
      ],
      "metadata": {
        "id": "wk-9a2fpoLcV"
      },
      "execution_count": null,
      "outputs": []
    },
    {
      "cell_type": "markdown",
      "source": [
        "####  1. Correcting the data:\n",
        "\n",
        "*  Here, we are correcting the rows which don't have the values in the right column.\n",
        "\n"
      ],
      "metadata": {
        "id": "b7AT_UCG4hZ6"
      }
    },
    {
      "cell_type": "code",
      "source": [
        "# checking how many rows are entered incorrectly.\n",
        "play_store_df['Category'].value_counts()"
      ],
      "metadata": {
        "id": "5sCHH_iaMu3N"
      },
      "execution_count": null,
      "outputs": []
    },
    {
      "cell_type": "markdown",
      "source": [
        "*  One entry in category column is '1.9' which is not valid. So, let's check the row having this error."
      ],
      "metadata": {
        "id": "bNHGxnQwvOsl"
      }
    },
    {
      "cell_type": "code",
      "source": [
        "play_store_df[play_store_df['Category'] == '1.9']\n"
      ],
      "metadata": {
        "id": "38kjtAWPNkdv"
      },
      "execution_count": null,
      "outputs": []
    },
    {
      "cell_type": "markdown",
      "source": [
        "*  This row has all the outlier values of every column. Every entry from the category column till the last column needs one place shift to the following column.\n",
        "\n",
        "*  The index of this row is 10472"
      ],
      "metadata": {
        "id": "O6d-WqpFqrC_"
      }
    },
    {
      "cell_type": "code",
      "source": [
        "# updating the values and correcting the row\n",
        "try:\n",
        "  play_store_df.loc[10472] = [\"Life Made WI-Fi Touchscreen Photo Frame\", np.nan, 1.9, 19.0, '3.0M', '1,000+', 'Free', '0', 'Everyone', np.nan, \"Februalry 11, 2018\", '1.0.19', \"4.0 and up\"]\n",
        "\n",
        "except ValueError:\n",
        "  print(\"Dataset already corrected\")"
      ],
      "metadata": {
        "id": "ziyEcvAbkOaY"
      },
      "execution_count": null,
      "outputs": []
    },
    {
      "cell_type": "code",
      "source": [
        "#checking the updated row\n",
        "play_store_df.loc[10472]"
      ],
      "metadata": {
        "id": "jSGuDWvyphAG"
      },
      "execution_count": null,
      "outputs": []
    },
    {
      "cell_type": "markdown",
      "source": [
        "#### 2. Dropping the Duplicate values:"
      ],
      "metadata": {
        "id": "VTaj-RO3Rwk6"
      }
    },
    {
      "cell_type": "code",
      "source": [
        "play_store_df.duplicated().sum()"
      ],
      "metadata": {
        "id": "NtpllA6bglOy"
      },
      "execution_count": null,
      "outputs": []
    },
    {
      "cell_type": "markdown",
      "source": [
        "*  There are a total of 483 duplicate rows in the dataset. We are dropping these rows.\n",
        "*  The `App` column can't have duplicate values as it contains the name of the application which is always unique for each application. So, we are checking that column also."
      ],
      "metadata": {
        "id": "X3mLMwaegtXU"
      }
    },
    {
      "cell_type": "code",
      "source": [
        "play_store_df['App'].duplicated().sum()"
      ],
      "metadata": {
        "id": "iGBYNnEQtYPl"
      },
      "execution_count": null,
      "outputs": []
    },
    {
      "cell_type": "markdown",
      "source": [
        "*  Now, this dataset has 1181 duplicate values, which we are dropping."
      ],
      "metadata": {
        "id": "RafiRdqSuegz"
      }
    },
    {
      "cell_type": "code",
      "source": [
        "play_store_df.drop_duplicates(subset = ['App'], keep = 'first', inplace = True)"
      ],
      "metadata": {
        "id": "CRudlFtfpJ2b"
      },
      "execution_count": null,
      "outputs": []
    },
    {
      "cell_type": "code",
      "source": [
        "play_store_df.info()"
      ],
      "metadata": {
        "id": "HlZ6T4idpYMN"
      },
      "execution_count": null,
      "outputs": []
    },
    {
      "cell_type": "markdown",
      "source": [
        "*  After dropping all the duplicate values, this dataset has 9660 rows in total.\n"
      ],
      "metadata": {
        "id": "Ene-UY31N63S"
      }
    },
    {
      "cell_type": "markdown",
      "source": [
        "#### 3. Dealing with the 'Size' column:\n"
      ],
      "metadata": {
        "id": "6rWG2asIgwK8"
      }
    },
    {
      "cell_type": "markdown",
      "source": [
        "1. Converting all the values in kb.\n",
        "2. Changing the data type to float."
      ],
      "metadata": {
        "id": "RyRnoVq8WNgQ"
      }
    },
    {
      "cell_type": "code",
      "source": [
        "#### Converting Dtype of Size column\n",
        "\n",
        "def size_dtype_converter(size):\n",
        "# converting the size of all the apps in kb's and changing the data type to float\n",
        "\n",
        "  # if size in kb\n",
        "  if 'k' in size:\n",
        "    try:\n",
        "      size = float(size.replace('k',''))\n",
        "    except:\n",
        "      size = np.nan\n",
        "\n",
        "# if size in Mb (converting to kb)\n",
        "  elif 'M' in size:\n",
        "    try:\n",
        "      size = float(size.replace('M',''))*1024\n",
        "    except:\n",
        "      size = np.nan\n",
        "\n",
        "# if size varies with device\n",
        "  else:\n",
        "    size = np.nan\n",
        "  return size\n",
        "\n",
        "# applying the above function to play store data\n",
        "try:\n",
        "  play_store_df['Size'] =play_store_df['Size'].apply(size_dtype_converter)\n",
        "\n",
        "except KeyError:\n",
        "  print(\"Size column already converted\")\n",
        "\n",
        "# renaming the Size column as Size_in_kb\n",
        "play_store_df.rename(columns = {'Size': 'Size_in_kb'}, inplace = True)"
      ],
      "metadata": {
        "id": "66MkuL1wIF0S"
      },
      "execution_count": null,
      "outputs": []
    },
    {
      "cell_type": "code",
      "source": [
        "# Getting minimum size\n",
        "min_size = play_store_df['Size_in_kb'].min()\n",
        "print(f\"Minimum size: {min_size} kb\")\n",
        "\n",
        "# Getting maximum size\n",
        "max_size = play_store_df['Size_in_kb'].max()\n",
        "print(f\"Maximum size: {max_size/1024} Mb\")"
      ],
      "metadata": {
        "id": "FU1gEZynWos2"
      },
      "execution_count": null,
      "outputs": []
    },
    {
      "cell_type": "markdown",
      "source": [
        "#### 4. Converting Dtype of Installs column"
      ],
      "metadata": {
        "id": "ej4PQmDTiHMW"
      }
    },
    {
      "cell_type": "code",
      "source": [
        "play_store_df['Installs'].unique()"
      ],
      "metadata": {
        "id": "vO0Rl60kiT7y"
      },
      "execution_count": null,
      "outputs": []
    },
    {
      "cell_type": "markdown",
      "source": [
        "Steps to convert this column\n",
        "\n",
        "\n",
        "1.   Remove '+' sign\n",
        "2.   Remove ',' sign\n",
        "3.   Convert the value to integer\n",
        "\n"
      ],
      "metadata": {
        "id": "ZieB8Dt7mFQo"
      }
    },
    {
      "cell_type": "code",
      "source": [
        "# 1. Removing '+' sign\n",
        "play_store_df['Installs']=play_store_df['Installs'].apply(lambda x: x.replace('+',\"\") if '+' in str(x) else x)\n",
        "\n",
        "# 2. Removing ',' sign\n",
        "play_store_df['Installs']=play_store_df['Installs'].apply(lambda x: x.replace(',',\"\") if ',' in str(x) else x)\n",
        "\n",
        "# 3. converting the data type to int\n",
        "play_store_df['Installs']=play_store_df['Installs'].apply(lambda x: int(x))"
      ],
      "metadata": {
        "id": "67XMfv8IhDWh"
      },
      "execution_count": null,
      "outputs": []
    },
    {
      "cell_type": "code",
      "source": [
        "# checking whether the data type is converted or not\n",
        "play_store_df['Installs'].dtype"
      ],
      "metadata": {
        "id": "ZngxU-LLAolW"
      },
      "execution_count": null,
      "outputs": []
    },
    {
      "cell_type": "code",
      "source": [
        "# Getting minimum installs\n",
        "min_installs = play_store_df['Installs'].min()\n",
        "print(f\"Minimum Installs: {min_installs}\")\n",
        "\n",
        "# Getting maximum installs\n",
        "max_installs = play_store_df['Installs'].max()\n",
        "print(f\"Maximum Installs: {max_installs}\")"
      ],
      "metadata": {
        "id": "VUeK0JpcilK6"
      },
      "execution_count": null,
      "outputs": []
    },
    {
      "cell_type": "code",
      "source": [
        "# Creating one more column based on the installs column\n",
        "installs_bins = [-1, 0, 10000, 100000, 1000000, 10000000, 100000000, 1000000000]\n",
        "installs_labels = ['zero', 'very low', 'low', 'moderate', 'high', 'very high', 'dominating']\n",
        "play_store_df['Installs_Category'] = pd.cut(play_store_df['Installs'], bins = installs_bins, labels = installs_labels)"
      ],
      "metadata": {
        "id": "gmVOi3MKjXFi"
      },
      "execution_count": null,
      "outputs": []
    },
    {
      "cell_type": "code",
      "source": [
        "# getting the value counts of installs category column\n",
        "play_store_df['Installs_Category'].value_counts()"
      ],
      "metadata": {
        "id": "TmJhmwfmlNjT"
      },
      "execution_count": null,
      "outputs": []
    },
    {
      "cell_type": "markdown",
      "source": [
        "#### 5. Converting Dtype of 'Price' column:"
      ],
      "metadata": {
        "id": "cg5MlvVbdooT"
      }
    },
    {
      "cell_type": "code",
      "source": [
        "play_store_df['Price'].unique()"
      ],
      "metadata": {
        "id": "k8L1NRPmd6LB"
      },
      "execution_count": null,
      "outputs": []
    },
    {
      "cell_type": "markdown",
      "source": [
        "Steps to convert Dtype of 'Price' column:\n",
        "\n",
        "\n",
        "1.  Remove '$' sign\n",
        "2.  Change the data type to float"
      ],
      "metadata": {
        "id": "c81AgNejeEFI"
      }
    },
    {
      "cell_type": "code",
      "source": [
        "#  converting the dtype of price column\n",
        "play_store_df['Price'] = play_store_df['Price'].apply(lambda x: float(x.replace('$', '')) if '$' in x else float(x))"
      ],
      "metadata": {
        "id": "lM6aSIAYedNT"
      },
      "execution_count": null,
      "outputs": []
    },
    {
      "cell_type": "code",
      "source": [
        "# checking whether the dtype is converted or not\n",
        "play_store_df['Price'].dtype"
      ],
      "metadata": {
        "id": "ZUJSLuiFDsKT"
      },
      "execution_count": null,
      "outputs": []
    },
    {
      "cell_type": "code",
      "source": [
        "price_bins = [-1, 0, 50, 100, 200, 300, 400]\n",
        "price_labels = ['Free', 'In 50 $', 'In 100 $', 'in 200 $', 'in 300 $', 'in 400 $']\n",
        "play_store_df['Price_Category'] = pd.cut(play_store_df['Price'], bins = price_bins, labels = price_labels)"
      ],
      "metadata": {
        "id": "jzeKxwoEBNpS"
      },
      "execution_count": null,
      "outputs": []
    },
    {
      "cell_type": "code",
      "source": [
        "play_store_df['Price_Category'].value_counts()"
      ],
      "metadata": {
        "id": "8ngkZUfaCkMn"
      },
      "execution_count": null,
      "outputs": []
    },
    {
      "cell_type": "markdown",
      "source": [
        "#### 6. Converting Dtype of 'Reviews' column:"
      ],
      "metadata": {
        "id": "Uy9yFFelkwiV"
      }
    },
    {
      "cell_type": "code",
      "source": [
        "# this column has numeric values. so, simply converting it to int dtype\n",
        "play_store_df['Reviews'] = play_store_df['Reviews'].apply(lambda x: int(x))"
      ],
      "metadata": {
        "id": "b_dUarQbkvfu"
      },
      "execution_count": null,
      "outputs": []
    },
    {
      "cell_type": "code",
      "source": [
        "# checking the dtype\n",
        "play_store_df['Reviews'].dtype"
      ],
      "metadata": {
        "id": "1w7KZd-ZELmq"
      },
      "execution_count": null,
      "outputs": []
    },
    {
      "cell_type": "markdown",
      "source": [
        "####  Handling the missing values/null values"
      ],
      "metadata": {
        "id": "NooyQcdjqkgs"
      }
    },
    {
      "cell_type": "code",
      "source": [
        "# column wise null values\n",
        "play_store_df.isnull().sum()"
      ],
      "metadata": {
        "id": "R8q_RFP3qvUj"
      },
      "execution_count": null,
      "outputs": []
    },
    {
      "cell_type": "code",
      "source": [
        "# Getting the column-wise percentage of null values\n",
        "null_percent = play_store_df.isnull().sum()*100/len(play_store_df)"
      ],
      "metadata": {
        "id": "uK6CP34Yq_Gq"
      },
      "execution_count": null,
      "outputs": []
    },
    {
      "cell_type": "code",
      "source": [
        "#Plotting the null values percentage\n",
        "plt.figure(figsize = (16,6))\n",
        "sns.barplot(data = null_percent)\n",
        "plt.xlabel('Columns')\n",
        "plt.xticks(rotation = 90)\n",
        "plt.ylabel('Percentage')\n",
        "plt.title('Column-wise percentage of Null Values')\n"
      ],
      "metadata": {
        "id": "wvf608xtrSlL"
      },
      "execution_count": null,
      "outputs": []
    },
    {
      "cell_type": "markdown",
      "source": [
        "*  There are two main columns having null values(`'Rating'`and `'Size'`).\n",
        "*  We will deal with the Rating column only as in the Size column we filled null values in place of the value 'Varies with device'.\n",
        "*  We cannot predict the actual or approximate size of any app.\n"
      ],
      "metadata": {
        "id": "yJHrtdoopeED"
      }
    },
    {
      "cell_type": "code",
      "source": [
        "#plotting the columns having null values less than 1%\n",
        "plt.figure(figsize = (16,6))\n",
        "sns.barplot(data = null_percent[null_percent < 1])\n",
        "plt.xlabel('Columns')\n",
        "plt.ylabel('Percentage')\n",
        "plt.title('Columns having Null Values less than 1%')"
      ],
      "metadata": {
        "id": "lUIFC6g7tG7s"
      },
      "execution_count": null,
      "outputs": []
    },
    {
      "cell_type": "markdown",
      "source": [
        "*  There are five columns having null values less than 1%.\n",
        "      \n",
        "       'Category', 'Type', 'Genres', 'Current Ver', 'Android Ver'\n",
        "\n",
        "*  We will drop the null values of these columns as we don't need to fill them.\n",
        "\n",
        "*  Other columns have 0 null values"
      ],
      "metadata": {
        "id": "KuK8bvn0uENz"
      }
    },
    {
      "cell_type": "code",
      "source": [
        "#  dropping some null values according to the columns that have null values less than 1%\n",
        "play_store_df.dropna(subset = ['Category', 'Type', 'Genres', 'Current Ver', 'Android Ver'], inplace = True)"
      ],
      "metadata": {
        "id": "kDJnqyCIGmcQ"
      },
      "execution_count": null,
      "outputs": []
    },
    {
      "cell_type": "code",
      "source": [
        "# checking the null values again\n",
        "play_store_df.isnull().sum()"
      ],
      "metadata": {
        "id": "W21hwITZHLVj"
      },
      "execution_count": null,
      "outputs": []
    },
    {
      "cell_type": "code",
      "source": [
        "# Filling missing values of rating column\n",
        "play_store_df['Rating'].fillna(play_store_df['Rating'].mean(), inplace = True)"
      ],
      "metadata": {
        "id": "a75w5TOaXHAk"
      },
      "execution_count": null,
      "outputs": []
    },
    {
      "cell_type": "code",
      "source": [
        "#  checking the final null values\n",
        "play_store_df.isnull().sum()"
      ],
      "metadata": {
        "id": "df8tcKr_X08a"
      },
      "execution_count": null,
      "outputs": []
    },
    {
      "cell_type": "markdown",
      "source": [
        "#### Dealing with user reviews dataset:"
      ],
      "metadata": {
        "id": "porAytMTcjhG"
      }
    },
    {
      "cell_type": "code",
      "source": [
        "# checking the null values of user reviews data\n",
        "user_reviews_df.isnull().sum()"
      ],
      "metadata": {
        "id": "Zg9sC-z7c3aV"
      },
      "execution_count": null,
      "outputs": []
    },
    {
      "cell_type": "markdown",
      "source": [
        "*  The `Translated_Review` column contains the review the user has given and all the following three columns are filled using this column. So, we need the rows which have this column filled. Hence, we are dropping all the null values of this column."
      ],
      "metadata": {
        "id": "27fQt4CGBmPZ"
      }
    },
    {
      "cell_type": "code",
      "source": [
        "#  dropping the null values by translated review column\n",
        "user_reviews_df.dropna(subset = ['Translated_Review'], inplace = True)"
      ],
      "metadata": {
        "id": "UzCMvleTAwsF"
      },
      "execution_count": null,
      "outputs": []
    },
    {
      "cell_type": "code",
      "source": [
        "# checking the null values agian\n",
        "user_reviews_df.isnull().sum()"
      ],
      "metadata": {
        "id": "bqPqc2vPBDIR"
      },
      "execution_count": null,
      "outputs": []
    },
    {
      "cell_type": "markdown",
      "source": [
        "*  Luckily, we don't have any null values remaining in this data."
      ],
      "metadata": {
        "id": "XpHkQuobCnK_"
      }
    },
    {
      "cell_type": "code",
      "source": [
        "# checking duplicate values\n",
        "user_reviews_df.duplicated().sum()"
      ],
      "metadata": {
        "id": "8DxawDNtBKBJ"
      },
      "execution_count": null,
      "outputs": []
    },
    {
      "cell_type": "markdown",
      "source": [
        "*  We don't have any duplicate values remaining in this dataset. This data is also ready for analysis."
      ],
      "metadata": {
        "id": "u4NaD9uyC2mv"
      }
    },
    {
      "cell_type": "markdown",
      "source": [
        "### What all manipulations have you done and insights you found?"
      ],
      "metadata": {
        "id": "MSa1f5Uengrz"
      }
    },
    {
      "cell_type": "markdown",
      "source": [
        "Answer Here."
      ],
      "metadata": {
        "id": "LbyXE7I1olp8"
      }
    },
    {
      "cell_type": "markdown",
      "source": [
        "## ***4. Data Vizualization, Storytelling & Experimenting with charts : Understand the relationships between variables***"
      ],
      "metadata": {
        "id": "GF8Ens_Soomf"
      }
    },
    {
      "cell_type": "markdown",
      "source": [
        "#### Chart - 1 - Average Installs per Category"
      ],
      "metadata": {
        "id": "0wOQAZs5pc--"
      }
    },
    {
      "cell_type": "code",
      "source": [
        "# Chart - 1 visualization code\n",
        "# average installs per category\n",
        "plt.figure(figsize = (16, 6))\n",
        "ax = sns.barplot(x = 'Installs', y = 'Category', data = play_store_df, estimator = 'mean', errorbar=('ci', 0))\n",
        "plt.title('Average Installs per category') #title of the graph\n",
        "\n",
        "# showing most successful categories with green color\n",
        "for bar in ax.patches:\n",
        "  if bar.get_width() > 10000000:  #categories with avg installs more than 1 crores\n",
        "    bar.set_color('green')\n",
        "\n",
        "plt.show()\n",
        "\n"
      ],
      "metadata": {
        "id": "7v_ESjsspbW7"
      },
      "execution_count": null,
      "outputs": []
    },
    {
      "cell_type": "markdown",
      "source": [
        "##### 1. Why did you pick the specific chart?"
      ],
      "metadata": {
        "id": "K5QZ13OEpz2H"
      }
    },
    {
      "cell_type": "markdown",
      "source": [
        "*  To compare all the categories and pick the best ones."
      ],
      "metadata": {
        "id": "XESiWehPqBRc"
      }
    },
    {
      "cell_type": "markdown",
      "source": [
        "##### 2. What is/are the insight(s) found from the chart?"
      ],
      "metadata": {
        "id": "lQ7QKXXCp7Bj"
      }
    },
    {
      "cell_type": "markdown",
      "source": [
        "*  There are a total of eight categories having average installs per app of more than one crore.\n",
        "\n",
        "*  These are: `COMMUNICATION`, `SOCIAL`, `VIDEO_PLAYERS`, `PRODUCTIVITY`, `PHOTOGRAPHY`, `GAME`, `TRAVEL_AND_LOCAL`, and `ENTERTAINMENT`.\n",
        "\n",
        "* The `COMMUNICATION` category is the most successful as it has the highest number of average installs which is more than 3.5 crores."
      ],
      "metadata": {
        "id": "C_j1G7yiqdRP"
      }
    },
    {
      "cell_type": "markdown",
      "source": [
        "##### 3. Will the gained insights help creating a positive business impact?\n",
        "Are there any insights that lead to negative growth? Justify with specific reason."
      ],
      "metadata": {
        "id": "448CDAPjqfQr"
      }
    },
    {
      "cell_type": "markdown",
      "source": [
        "*  Categories having green bars in the graph have better chances of growth than the other ones."
      ],
      "metadata": {
        "id": "3cspy4FjqxJW"
      }
    },
    {
      "cell_type": "markdown",
      "source": [
        "#### Chart - 2 - Total Apps per Category"
      ],
      "metadata": {
        "id": "KSlN3yHqYklG"
      }
    },
    {
      "cell_type": "code",
      "source": [
        "# Chart - 4 visualization code\n",
        "# total apps per category\n",
        "plt.figure(figsize = (14,6))\n",
        "sns.countplot(x = 'Category', data = play_store_df, hue = 'Type', dodge = False)\n",
        "plt.xlabel('Category')\n",
        "plt.xticks(rotation = 90)\n",
        "plt.ylabel('Count')\n",
        "plt.title('Total apps per category')\n",
        "plt.show()"
      ],
      "metadata": {
        "id": "R4YgtaqtYklH"
      },
      "execution_count": null,
      "outputs": []
    },
    {
      "cell_type": "markdown",
      "source": [
        "##### 1. Why did you pick the specific chart?"
      ],
      "metadata": {
        "id": "t6dVpIINYklI"
      }
    },
    {
      "cell_type": "markdown",
      "source": [
        "*  This graph will tell us about the competition in each category."
      ],
      "metadata": {
        "id": "5aaW0BYyYklI"
      }
    },
    {
      "cell_type": "markdown",
      "source": [
        "##### 2. What is/are the insight(s) found from the chart?"
      ],
      "metadata": {
        "id": "ijmpgYnKYklI"
      }
    },
    {
      "cell_type": "markdown",
      "source": [
        "*  The `FAMILY` category has the most number of apps and is highly competitive.\n",
        "*  The `GAME` category has the second highest number of apps but has good average installs making it a competitive and awarding category.\n",
        "* The total number of apps in the `COMMUNICATION` category is low but average installs are the highest making it the best category.\n",
        "*  The total number of free apps is much higher than the paid ones."
      ],
      "metadata": {
        "id": "PSx9atu2YklI"
      }
    },
    {
      "cell_type": "markdown",
      "source": [
        "##### 3. Will the gained insights help creating a positive business impact?\n",
        "Are there any insights that lead to negative growth? Justify with specific reason."
      ],
      "metadata": {
        "id": "-JiQyfWJYklI"
      }
    },
    {
      "cell_type": "markdown",
      "source": [
        "*  The `COMMUNICATION` category is best to make an app as it has low competition and a high user base."
      ],
      "metadata": {
        "id": "BcBbebzrYklV"
      }
    },
    {
      "cell_type": "markdown",
      "source": [
        "#### Chart - 3 - Rating Distribution"
      ],
      "metadata": {
        "id": "EM7whBJCYoAo"
      }
    },
    {
      "cell_type": "code",
      "source": [
        "# Chart - 3 visualization code\n",
        "\n",
        "plt.figure(figsize = (14,6))\n",
        "\n",
        "# Rating Distribution\n",
        "plt.subplot(2,2,1)\n",
        "sns.kdeplot(data = play_store_df['Rating'], fill = True)\n",
        "plt.title('Rating Distributon')\n",
        "\n",
        "### Plotting average rating for each content\n",
        "plt.subplot(2,2,2)\n",
        "sns.barplot(y = 'Content Rating', x = 'Rating', data  = play_store_df)\n",
        "plt.title('Average Rating for each content')\n",
        "\n",
        "# plotting rating installs and reviews\n",
        "plt.subplot(2,2,3)\n",
        "sns.scatterplot(x = 'Rating', y = 'Installs', data = play_store_df, size = 'Reviews')\n",
        "\n",
        "# Rating for free vs paid\n",
        "plt.subplot(2,2,4)\n",
        "sns.barplot(y = 'Type', x = 'Rating', data = play_store_df, hue = 'Type')\n",
        "\n",
        "plt.show()"
      ],
      "metadata": {
        "id": "t6GMdE67YoAp"
      },
      "execution_count": null,
      "outputs": []
    },
    {
      "cell_type": "markdown",
      "source": [
        "##### 1. Why did you pick the specific chart?"
      ],
      "metadata": {
        "id": "fge-S5ZAYoAp"
      }
    },
    {
      "cell_type": "markdown",
      "source": [
        "*  Getting all the insights around the rating column."
      ],
      "metadata": {
        "id": "5dBItgRVYoAp"
      }
    },
    {
      "cell_type": "markdown",
      "source": [
        "##### 2. What is/are the insight(s) found from the chart?"
      ],
      "metadata": {
        "id": "85gYPyotYoAp"
      }
    },
    {
      "cell_type": "markdown",
      "source": [
        "*  Most of the apps have a rating of above 4.\n",
        "*  Adult content has the highest average rating.\n",
        "*  Almost all of the highly installed apps have a good rating and a good number of reviews.\n",
        "*  The paid apps have slightly higher rating than the free ones."
      ],
      "metadata": {
        "id": "4jstXR6OYoAp"
      }
    },
    {
      "cell_type": "markdown",
      "source": [
        "##### 3. Will the gained insights help creating a positive business impact?\n",
        "Are there any insights that lead to negative growth? Justify with specific reason."
      ],
      "metadata": {
        "id": "RoGjAbkUYoAp"
      }
    },
    {
      "cell_type": "markdown",
      "source": [
        "*  We need to maintain a good rating to make our application successful."
      ],
      "metadata": {
        "id": "zfJ8IqMcYoAp"
      }
    },
    {
      "cell_type": "markdown",
      "source": [
        "#### Chart - 4 - Category vs Price"
      ],
      "metadata": {
        "id": "4Of9eVA-YrdM"
      }
    },
    {
      "cell_type": "code",
      "source": [
        "# Chart - 6 visualization code\n",
        "\n",
        "\n",
        "plt.figure(figsize = (14,6))\n",
        "\n",
        "# plotting the average price for each category of paid apps\n",
        "sns.barplot(x = 'Category', y = 'Price', data = play_store_df[play_store_df['Type'] == 'Paid'], errorbar = ('ci', 0))\n",
        "plt.xticks(rotation = 90)\n",
        "plt.title('Average price of paid applications')\n",
        "\n",
        "plt.show()\n"
      ],
      "metadata": {
        "id": "irlUoxc8YrdO"
      },
      "execution_count": null,
      "outputs": []
    },
    {
      "cell_type": "markdown",
      "source": [
        "##### 1. Why did you pick the specific chart?"
      ],
      "metadata": {
        "id": "iky9q4vBYrdO"
      }
    },
    {
      "cell_type": "markdown",
      "source": [
        "*  To get the average price of each category of the paid apps."
      ],
      "metadata": {
        "id": "aJRCwT6DYrdO"
      }
    },
    {
      "cell_type": "markdown",
      "source": [
        "##### 2. What is/are the insight(s) found from the chart?"
      ],
      "metadata": {
        "id": "F6T5p64dYrdO"
      }
    },
    {
      "cell_type": "markdown",
      "source": [
        "*  The average price of the `FINANCE` category apps is greater than 160\\$ which is the highest.\n",
        "*  The `LIFESTYLE` and the `EVENT` category also have the average price of greater than 100\\$.\n",
        "*  All the other categories have the average price below 20\\$."
      ],
      "metadata": {
        "id": "Xx8WAJvtYrdO"
      }
    },
    {
      "cell_type": "markdown",
      "source": [
        "##### 3. Will the gained insights help creating a positive business impact?\n",
        "Are there any insights that lead to negative growth? Justify with specific reason."
      ],
      "metadata": {
        "id": "y-Ehk30pYrdP"
      }
    },
    {
      "cell_type": "markdown",
      "source": [
        "*  While launching a paid application, we will get the average price of the category of the application through this chart which will help us in choosing the right price for our application."
      ],
      "metadata": {
        "id": "jLNxxz7MYrdP"
      }
    },
    {
      "cell_type": "markdown",
      "source": [
        "#### Chart - 5 - Free vs Paid"
      ],
      "metadata": {
        "id": "bamQiAODYuh1"
      }
    },
    {
      "cell_type": "code",
      "source": [
        "# Chart - 5 visualization code\n",
        "# free vs paid\n",
        "plt.figure(figsize = (14,6))\n",
        "plt.subplot(1,2,1)\n",
        "sns.scatterplot(x = 'Price', y = 'Installs', data = play_store_df, hue = 'Type')\n",
        "plt.title('Installs vs Price')\n",
        "\n",
        "plt.subplot(1,2,2)\n",
        "sns.countplot(x = 'Installs_Category', data = play_store_df[play_store_df['Type'] == 'Paid'], hue = 'Type')\n",
        "plt.title('Total apps per installs category')\n",
        "plt.show()"
      ],
      "metadata": {
        "id": "TIJwrbroYuh3"
      },
      "execution_count": null,
      "outputs": []
    },
    {
      "cell_type": "markdown",
      "source": [
        "##### 1. Why did you pick the specific chart?"
      ],
      "metadata": {
        "id": "QHF8YVU7Yuh3"
      }
    },
    {
      "cell_type": "markdown",
      "source": [
        "*  To compare the type of the application."
      ],
      "metadata": {
        "id": "dcxuIMRPYuh3"
      }
    },
    {
      "cell_type": "markdown",
      "source": [
        "##### 2. What is/are the insight(s) found from the chart?"
      ],
      "metadata": {
        "id": "GwzvFGzlYuh3"
      }
    },
    {
      "cell_type": "markdown",
      "source": [
        "*  The paid apps have very low installs compared to the free ones.\n",
        "*  Most of the paid apps lie under the price of 50\\$."
      ],
      "metadata": {
        "id": "uyqkiB8YYuh3"
      }
    },
    {
      "cell_type": "markdown",
      "source": [
        "##### 3. Will the gained insights help creating a positive business impact?\n",
        "Are there any insights that lead to negative growth? Justify with specific reason."
      ],
      "metadata": {
        "id": "qYpmQ266Yuh3"
      }
    },
    {
      "cell_type": "markdown",
      "source": [
        "* If our target audience is small or premium society then launching a paid application is a better choice. Otherwise, if we want a bigger userbase then we have to launch a free application."
      ],
      "metadata": {
        "id": "_WtzZ_hCYuh4"
      }
    },
    {
      "cell_type": "markdown",
      "source": [
        "#### Chart - 6 - Category vs Size"
      ],
      "metadata": {
        "id": "OH-pJp9IphqM"
      }
    },
    {
      "cell_type": "code",
      "source": [
        "# Chart - 6 visualization code\n",
        "\n",
        "ax6 = plt.figure(figsize = (14,6))\n",
        "ax6.suptitle('Average size of application for each category')\n",
        "\n",
        "plt.subplot(1,2,1)\n",
        "sns.barplot(x = 'Category', y = 'Size_in_kb', data = play_store_df)\n",
        "plt.xticks(rotation = 90)\n",
        "\n",
        "plt.subplot(1,2,2)\n",
        "sns.boxplot(x = 'Installs_Category', y = 'Size_in_kb', data = play_store_df)\n",
        "\n",
        "plt.show()"
      ],
      "metadata": {
        "id": "kuRf4wtuphqN"
      },
      "execution_count": null,
      "outputs": []
    },
    {
      "cell_type": "markdown",
      "source": [
        "##### 1. Why did you pick the specific chart?"
      ],
      "metadata": {
        "id": "bbFf2-_FphqN"
      }
    },
    {
      "cell_type": "markdown",
      "source": [
        "*  To get the average size needed to create an application of a specific category. We are getting the heaviest and the lightest categories according to their average application size in this graph."
      ],
      "metadata": {
        "id": "loh7H2nzphqN"
      }
    },
    {
      "cell_type": "markdown",
      "source": [
        "##### 2. What is/are the insight(s) found from the chart?"
      ],
      "metadata": {
        "id": "_ouA3fa0phqN"
      }
    },
    {
      "cell_type": "markdown",
      "source": [
        "*  The `GAME` category has an average application size of above forty thousand kb which is the highest.\n",
        "*  All the other categories are around 20,000 kb.\n",
        "*  By the second chart, we can say that highly installed apps are bigger in size. This means that good apps are bigger in size."
      ],
      "metadata": {
        "id": "VECbqPI7phqN"
      }
    },
    {
      "cell_type": "markdown",
      "source": [
        "##### 3. Will the gained insights help creating a positive business impact?\n",
        "Are there any insights that lead to negative growth? Justify with specific reason."
      ],
      "metadata": {
        "id": "Seke61FWphqN"
      }
    },
    {
      "cell_type": "markdown",
      "source": [
        "*  If the application is good and highly optimized then the size of the application doesn't matter much to the user.\n",
        "* The size of the application varies according to the category. We need a bigger space to create a gaming app than the other category app."
      ],
      "metadata": {
        "id": "DW4_bGpfphqN"
      }
    },
    {
      "cell_type": "markdown",
      "source": [
        "#### Chart - 7 - Reviews vs Installs category"
      ],
      "metadata": {
        "id": "PIIx-8_IphqN"
      }
    },
    {
      "cell_type": "code",
      "source": [
        "# Chart - 7 visualization code\n",
        "plt.figure(figsize = (16,6))\n",
        "sns.barplot(x = 'Installs_Category', y = 'Reviews', data = play_store_df, errorbar = ('ci', 0))"
      ],
      "metadata": {
        "id": "lqAIGUfyphqO"
      },
      "execution_count": null,
      "outputs": []
    },
    {
      "cell_type": "markdown",
      "source": [
        "##### 1. Why did you pick the specific chart?"
      ],
      "metadata": {
        "id": "t27r6nlMphqO"
      }
    },
    {
      "cell_type": "markdown",
      "source": [
        "*  To get which type of apps has a higher number of reviews."
      ],
      "metadata": {
        "id": "iv6ro40sphqO"
      }
    },
    {
      "cell_type": "markdown",
      "source": [
        "##### 2. What is/are the insight(s) found from the chart?"
      ],
      "metadata": {
        "id": "r2jJGEOYphqO"
      }
    },
    {
      "cell_type": "markdown",
      "source": [
        "*  The dominating category has far higher reviews than the other categories."
      ],
      "metadata": {
        "id": "Po6ZPi4hphqO"
      }
    },
    {
      "cell_type": "markdown",
      "source": [
        "##### 3. Will the gained insights help creating a positive business impact?\n",
        "Are there any insights that lead to negative growth? Justify with specific reason."
      ],
      "metadata": {
        "id": "b0JNsNcRphqO"
      }
    },
    {
      "cell_type": "markdown",
      "source": [
        "*  Continuously optimizing the app increases the user and review count. So, we have to optimize our application continuously."
      ],
      "metadata": {
        "id": "xvSq8iUTphqO"
      }
    },
    {
      "cell_type": "markdown",
      "source": [
        "#### Chart - 8 - Content Rating"
      ],
      "metadata": {
        "id": "BZR9WyysphqO"
      }
    },
    {
      "cell_type": "code",
      "source": [
        "# Chart - 8 visualization code\n",
        "plt.figure(figsize=(16, 6)) # make figure size\n",
        "\n",
        "plt.subplot(1,2,1)\n",
        "sns.barplot(x='Content Rating', y='Installs', data=play_store_df, errorbar = ('ci',0))\n",
        "plt.title('Average installs for each type of content')\n",
        "\n",
        "plt.subplot(1,2,2)\n",
        "play_store_df['Content Rating'].value_counts().plot(kind = 'pie', autopct = '%.2f%%')\n",
        "\n",
        "plt.show()"
      ],
      "metadata": {
        "id": "TdPTWpAVphqO"
      },
      "execution_count": null,
      "outputs": []
    },
    {
      "cell_type": "markdown",
      "source": [
        "##### 1. Why did you pick the specific chart?"
      ],
      "metadata": {
        "id": "jj7wYXLtphqO"
      }
    },
    {
      "cell_type": "markdown",
      "source": [
        "*  To find out some useful information about each type of content and to choose the best one."
      ],
      "metadata": {
        "id": "Ob8u6rCTphqO"
      }
    },
    {
      "cell_type": "markdown",
      "source": [
        "##### 2. What is/are the insight(s) found from the chart?"
      ],
      "metadata": {
        "id": "eZrbJ2SmphqO"
      }
    },
    {
      "cell_type": "markdown",
      "source": [
        "*  The `Everyone` content has the highest number of apps which is greater than 80\\% of the total apps.\n",
        "*  The `Teen` content has the highest average installs and only 11% of apps lie in this category making it a good category for app-making business.\n",
        "*  The `Adult` and the `Unrated` apps are very low in number and have very low average installs.\n",
        "*  The `Everone 10+` category also has a very low number of apps but this category has the second highest average installs making it a low-competitive but rewarding category."
      ],
      "metadata": {
        "id": "mZtgC_hjphqO"
      }
    },
    {
      "cell_type": "markdown",
      "source": [
        "##### 3. Will the gained insights help creating a positive business impact?\n",
        "Are there any insights that lead to negative growth? Justify with specific reason."
      ],
      "metadata": {
        "id": "rFu4xreNphqO"
      }
    },
    {
      "cell_type": "markdown",
      "source": [
        "*  Yes, we can decide the content of our application using these insights."
      ],
      "metadata": {
        "id": "ey_0qi68phqO"
      }
    },
    {
      "cell_type": "markdown",
      "source": [
        "#### Chart - 9 -  The most successful paid apps."
      ],
      "metadata": {
        "id": "YJ55k-q6phqO"
      }
    },
    {
      "cell_type": "code",
      "source": [
        "# Chart - 9 visualization code\n",
        "\n",
        "plt.figure(figsize=(14, 4)) # make figure size\n",
        "\n",
        "plt.subplot(121)  # plotting top 5 installed paid apps\n",
        "sns.barplot(x='App', y='Installs', data=play_store_df[play_store_df['Type'] == 'Paid'].sort_values(by='Installs', ascending=False).head(5))\n",
        "plt.title('Top 5 Installed paid apps')\n",
        "plt.xticks(rotation = 90)\n",
        "\n",
        "plt.subplot(122)  # plotting top 5 reviewed paid apps\n",
        "sns.barplot(x='App', y='Reviews', data=play_store_df[play_store_df['Type'] == 'Paid'].sort_values(by='Reviews', ascending=False).head(5))\n",
        "plt.title('Top 5 Reviewed paid apps')\n",
        "plt.xticks(rotation = 90)\n",
        "\n",
        "plt.show()"
      ],
      "metadata": {
        "id": "B2aS4O1ophqO"
      },
      "execution_count": null,
      "outputs": []
    },
    {
      "cell_type": "markdown",
      "source": [
        "##### 1. Why did you pick the specific chart?"
      ],
      "metadata": {
        "id": "gCFgpxoyphqP"
      }
    },
    {
      "cell_type": "markdown",
      "source": [
        "*  To know the best paid apps."
      ],
      "metadata": {
        "id": "TVxDimi2phqP"
      }
    },
    {
      "cell_type": "markdown",
      "source": [
        "##### 2. What is/are the insight(s) found from the chart?"
      ],
      "metadata": {
        "id": "OVtJsKN_phqQ"
      }
    },
    {
      "cell_type": "markdown",
      "source": [
        "*  Four apps are common in these two graphs showing that the top installed apps have the highest number of reviews.\n",
        "*  The `Hitman Sniper` and `Minecraft` are the most installed paid apps.\n",
        "*  The `Game` category apps are more frequent in the most successful apps."
      ],
      "metadata": {
        "id": "ngGi97qjphqQ"
      }
    },
    {
      "cell_type": "markdown",
      "source": [
        "##### 3. Will the gained insights help creating a positive business impact?\n",
        "Are there any insights that lead to negative growth? Justify with specific reason."
      ],
      "metadata": {
        "id": "lssrdh5qphqQ"
      }
    },
    {
      "cell_type": "markdown",
      "source": [
        "*  Yes, this graph shows us the most successful apps, and examining the features of these apps will help us create a better one."
      ],
      "metadata": {
        "id": "tBpY5ekJphqQ"
      }
    },
    {
      "cell_type": "markdown",
      "source": [
        "#### Chart - 10 - The most successful free apps."
      ],
      "metadata": {
        "id": "U2RJ9gkRphqQ"
      }
    },
    {
      "cell_type": "code",
      "source": [
        "# Chart - 9 visualization code\n",
        "\n",
        "plt.figure(figsize=(14,4)) # make figure size\n",
        "\n",
        "plt.subplot(121)   # plotting top 5 installed free apps\n",
        "sns.barplot(x='App', y='Installs', data=play_store_df[play_store_df['Type'] == 'Free'].sort_values(by='Installs', ascending=False).head(5))\n",
        "plt.title('Top installed free apps')\n",
        "plt.xticks(rotation = 90)\n",
        "\n",
        "plt.subplot(122)     # plotting top 5 reviewed free apps\n",
        "sns.barplot(x='App', y='Reviews', data=play_store_df[play_store_df['Type'] == 'Free'].sort_values(by='Reviews', ascending=False).head(5))\n",
        "plt.title('Top reviewed free apps')\n",
        "plt.xticks(rotation = 90)\n",
        "\n",
        "plt.show()"
      ],
      "metadata": {
        "id": "GM7a4YP4phqQ"
      },
      "execution_count": null,
      "outputs": []
    },
    {
      "cell_type": "markdown",
      "source": [
        "##### 1. Why did you pick the specific chart?"
      ],
      "metadata": {
        "id": "1M8mcRywphqQ"
      }
    },
    {
      "cell_type": "markdown",
      "source": [
        "*  To get the most successful free apps."
      ],
      "metadata": {
        "id": "8agQvks0phqQ"
      }
    },
    {
      "cell_type": "markdown",
      "source": [
        "##### 2. What is/are the insight(s) found from the chart?"
      ],
      "metadata": {
        "id": "tgIPom80phqQ"
      }
    },
    {
      "cell_type": "markdown",
      "source": [
        "*  The `Facebook` is the most reviewed free app.\n",
        "*  The `social` and `Communication` categories have higher number of reviews."
      ],
      "metadata": {
        "id": "Qp13pnNzphqQ"
      }
    },
    {
      "cell_type": "markdown",
      "source": [
        "##### 3. Will the gained insights help creating a positive business impact?\n",
        "Are there any insights that lead to negative growth? Justify with specific reason."
      ],
      "metadata": {
        "id": "JMzcOPDDphqR"
      }
    },
    {
      "cell_type": "markdown",
      "source": [
        "*  Yes, this graph will help us in the same way as the above-mentioned one."
      ],
      "metadata": {
        "id": "R4Ka1PC2phqR"
      }
    },
    {
      "cell_type": "markdown",
      "source": [
        "#### Chart - 11 - Category vs Installs (Paid Apps)"
      ],
      "metadata": {
        "id": "x-EpHcCOp1ci"
      }
    },
    {
      "cell_type": "code",
      "source": [
        "# Chart - 11 visualization code\n",
        "\n",
        "# plotting average installs for each category for paid apps\n",
        "ax1 = sns.barplot(x = 'Installs', y = 'Category', data = play_store_df[play_store_df['Type'] == 'Paid'], estimator = 'mean', errorbar=('ci', 0))\n",
        "plt.title('Average installs for paid apps')\n",
        "\n",
        "# showing the most successful categories with green bars\n",
        "for bar in ax1.patches:\n",
        "  if bar.get_width() > 100000:  #categories with avg installs more than 1 lakh\n",
        "    bar.set_color('green')\n",
        "plt.show()"
      ],
      "metadata": {
        "id": "mAQTIvtqp1cj"
      },
      "execution_count": null,
      "outputs": []
    },
    {
      "cell_type": "markdown",
      "source": [
        "##### 1. Why did you pick the specific chart?"
      ],
      "metadata": {
        "id": "X_VqEhTip1ck"
      }
    },
    {
      "cell_type": "markdown",
      "source": [
        "* To find the best category to launch a paid application."
      ],
      "metadata": {
        "id": "-vsMzt_np1ck"
      }
    },
    {
      "cell_type": "code",
      "source": [],
      "metadata": {
        "id": "D9aBykfvPWO7"
      },
      "execution_count": null,
      "outputs": []
    },
    {
      "cell_type": "markdown",
      "source": [
        "##### 2. What is/are the insight(s) found from the chart?"
      ],
      "metadata": {
        "id": "8zGJKyg5p1ck"
      }
    },
    {
      "cell_type": "markdown",
      "source": [
        "*  The `Game` category is the best to launch a paid application.\n",
        "*  Some other good categories having average installs greater than 1,00,000 are represented by green bars."
      ],
      "metadata": {
        "id": "ZYdMsrqVp1ck"
      }
    },
    {
      "cell_type": "markdown",
      "source": [
        "##### 3. Will the gained insights help creating a positive business impact?\n",
        "Are there any insights that lead to negative growth? Justify with specific reason."
      ],
      "metadata": {
        "id": "PVzmfK_Ep1ck"
      }
    },
    {
      "cell_type": "markdown",
      "source": [
        "*  Yes, this chart will help us choosing the best category to make an application."
      ],
      "metadata": {
        "id": "druuKYZpp1ck"
      }
    },
    {
      "cell_type": "markdown",
      "source": [
        "#### Chart - 12 - Apps with highest positive reviews."
      ],
      "metadata": {
        "id": "n3dbpmDWp1ck"
      }
    },
    {
      "cell_type": "code",
      "source": [
        "# Chart - 12 visualization code\n",
        "\n",
        "plt.figure(figsize = (14,6))\n",
        "\n",
        "# plotting the apps with highest number of positive reviews\n",
        "sns.countplot(x = 'App', data = user_reviews_df, order = user_reviews_df[user_reviews_df['Sentiment'] == 'Positive' ].App.value_counts().iloc[:5].index, hue = 'Sentiment')\n",
        "plt.title('Apps with the highest number of positive reviews')\n",
        "\n",
        "plt.show()"
      ],
      "metadata": {
        "id": "bwevp1tKp1ck"
      },
      "execution_count": null,
      "outputs": []
    },
    {
      "cell_type": "markdown",
      "source": [
        "##### 1. Why did you pick the specific chart?"
      ],
      "metadata": {
        "id": "ylSl6qgtp1ck"
      }
    },
    {
      "cell_type": "markdown",
      "source": [
        "*  To get the apps with the highest number of positive reviews."
      ],
      "metadata": {
        "id": "m2xqNkiQp1ck"
      }
    },
    {
      "cell_type": "markdown",
      "source": [
        "##### 2. What is/are the insight(s) found from the chart?"
      ],
      "metadata": {
        "id": "ZWILFDl5p1ck"
      }
    },
    {
      "cell_type": "markdown",
      "source": [
        "*  Except for the app `Bownmasters`, all the other apps with a high number of positive reviews have a deficient negative or neutral reviews."
      ],
      "metadata": {
        "id": "x-lUsV2mp1ck"
      }
    },
    {
      "cell_type": "markdown",
      "source": [
        "##### 3. Will the gained insights help creating a positive business impact?\n",
        "Are there any insights that lead to negative growth? Justify with specific reason."
      ],
      "metadata": {
        "id": "M7G43BXep1ck"
      }
    },
    {
      "cell_type": "markdown",
      "source": [
        "*  Yes, observing the apps with high positive reviews will help us make our application better."
      ],
      "metadata": {
        "id": "5wwDJXsLp1cl"
      }
    },
    {
      "cell_type": "markdown",
      "source": [
        "#### Chart - 13"
      ],
      "metadata": {
        "id": "Ag9LCva-p1cl"
      }
    },
    {
      "cell_type": "code",
      "source": [
        "# Chart - 13 visualization code\n",
        "plt.figure(figsize = (14,6))\n",
        "\n",
        "# plotting polarity vs subjectivity\n",
        "plt.subplot(121)\n",
        "sns.scatterplot(x = 'Sentiment_Subjectivity', y = 'Sentiment_Polarity', data = user_reviews_df, hue = 'Sentiment')\n",
        "plt.title('Sentiment Polarity vs Subjectivity')\n",
        "\n",
        "#  plotting sentiment counts\n",
        "plt.subplot(122)\n",
        "plt.title('Sentiment count')\n",
        "sns.countplot(x = 'Sentiment', data = user_reviews_df)\n",
        "\n",
        "plt.show()"
      ],
      "metadata": {
        "id": "EUfxeq9-p1cl"
      },
      "execution_count": null,
      "outputs": []
    },
    {
      "cell_type": "markdown",
      "source": [
        "##### 1. Why did you pick the specific chart?"
      ],
      "metadata": {
        "id": "E6MkPsBcp1cl"
      }
    },
    {
      "cell_type": "markdown",
      "source": [
        "*  To get the relationship between the two variables of the user reviews dataset."
      ],
      "metadata": {
        "id": "V22bRsFWp1cl"
      }
    },
    {
      "cell_type": "markdown",
      "source": [
        "##### 2. What is/are the insight(s) found from the chart?"
      ],
      "metadata": {
        "id": "2cELzS2fp1cl"
      }
    },
    {
      "cell_type": "markdown",
      "source": [
        "*  There is no direct relationship between the two.\n",
        "*  The Positive reviews are the highest in number."
      ],
      "metadata": {
        "id": "ozQPc2_Ip1cl"
      }
    },
    {
      "cell_type": "markdown",
      "source": [
        "##### 3. Will the gained insights help creating a positive business impact?\n",
        "Are there any insights that lead to negative growth? Justify with specific reason."
      ],
      "metadata": {
        "id": "3MPXvC8up1cl"
      }
    },
    {
      "cell_type": "markdown",
      "source": [
        "*  Yes, we need to maintain the negative reviews to a very low number to keep our application growing."
      ],
      "metadata": {
        "id": "GL8l1tdLp1cl"
      }
    },
    {
      "cell_type": "markdown",
      "source": [
        "#### Chart - 14 - Correlation Heatmap"
      ],
      "metadata": {
        "id": "NC_X3p0fY2L0"
      }
    },
    {
      "cell_type": "code",
      "source": [
        "# Correlation Heatmap visualization code\n",
        "\n",
        "sns.heatmap(data = play_store_df.corr())"
      ],
      "metadata": {
        "id": "xyC9zolEZNRQ"
      },
      "execution_count": null,
      "outputs": []
    },
    {
      "cell_type": "markdown",
      "source": [
        "##### 1. Why did you pick the specific chart?"
      ],
      "metadata": {
        "id": "UV0SzAkaZNRQ"
      }
    },
    {
      "cell_type": "markdown",
      "source": [
        "Answer Here."
      ],
      "metadata": {
        "id": "DVPuT8LYZNRQ"
      }
    },
    {
      "cell_type": "markdown",
      "source": [
        "##### 2. What is/are the insight(s) found from the chart?"
      ],
      "metadata": {
        "id": "YPEH6qLeZNRQ"
      }
    },
    {
      "cell_type": "markdown",
      "source": [
        "Answer Here"
      ],
      "metadata": {
        "id": "bfSqtnDqZNRR"
      }
    },
    {
      "cell_type": "markdown",
      "source": [
        "#### Chart - 15 - Pair Plot"
      ],
      "metadata": {
        "id": "q29F0dvdveiT"
      }
    },
    {
      "cell_type": "code",
      "source": [
        "# Pair Plot visualization code\n",
        "\n",
        "sns.pairplot(data = play_store_df)"
      ],
      "metadata": {
        "id": "o58-TEIhveiU"
      },
      "execution_count": null,
      "outputs": []
    },
    {
      "cell_type": "markdown",
      "source": [
        "##### 1. Why did you pick the specific chart?"
      ],
      "metadata": {
        "id": "EXh0U9oCveiU"
      }
    },
    {
      "cell_type": "markdown",
      "source": [
        "Answer Here."
      ],
      "metadata": {
        "id": "eMmPjTByveiU"
      }
    },
    {
      "cell_type": "markdown",
      "source": [
        "##### 2. What is/are the insight(s) found from the chart?"
      ],
      "metadata": {
        "id": "22aHeOlLveiV"
      }
    },
    {
      "cell_type": "markdown",
      "source": [
        "Answer Here"
      ],
      "metadata": {
        "id": "uPQ8RGwHveiV"
      }
    },
    {
      "cell_type": "markdown",
      "source": [
        "## **5. Solution to Business Objective**"
      ],
      "metadata": {
        "id": "JcMwzZxoAimU"
      }
    },
    {
      "cell_type": "markdown",
      "source": [
        "#### What do you suggest the client to achieve Business Objective ?\n",
        "Explain Briefly."
      ],
      "metadata": {
        "id": "8G2x9gOozGDZ"
      }
    },
    {
      "cell_type": "markdown",
      "source": [
        "Answer Here."
      ],
      "metadata": {
        "id": "pASKb0qOza21"
      }
    },
    {
      "cell_type": "markdown",
      "source": [
        "# **Conclusion**"
      ],
      "metadata": {
        "id": "gCX9965dhzqZ"
      }
    },
    {
      "cell_type": "markdown",
      "source": [
        "Write the conclusion here."
      ],
      "metadata": {
        "id": "Fjb1IsQkh3yE"
      }
    },
    {
      "cell_type": "markdown",
      "source": [
        "### ***Hurrah! You have successfully completed your EDA Capstone Project !!!***"
      ],
      "metadata": {
        "id": "gIfDvo9L0UH2"
      }
    }
  ]
}